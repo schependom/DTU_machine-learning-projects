{
 "cells": [
  {
   "cell_type": "markdown",
   "id": "28d1dcbd",
   "metadata": {},
   "source": [
    "# Project 1"
   ]
  },
  {
   "cell_type": "markdown",
   "id": "43e087e2",
   "metadata": {},
   "source": [
    "## Datasets\n",
    "\n",
    "- Glass Identification Dataset: https://archive.ics.uci.edu/dataset/42/glass+identification\n",
    "- South African Heart Disease Dataset: https://hastie.su.domains/ElemStatLearn/\n",
    "\n",
    "    ```txt\n",
    "    A retrospective sample of males in a heart-disease high-risk region\n",
    "    of the Western Cape, South Africa. There are roughly two controls per\n",
    "    case of CHD. Many of the CHD positive men have undergone blood\n",
    "    pressure reduction treatment and other programs to reduce their risk\n",
    "    factors after their CHD event. In some cases the measurements were\n",
    "    made after these treatments. These data are taken from a larger\n",
    "    dataset, described in  Rousseauw et al, 1983, South African Medical\n",
    "    Journal. \n",
    "\n",
    "    sbp\t\tsystolic blood pressure\n",
    "    tobacco\t\tcumulative tobacco (kg)\n",
    "    ldl\t\tlow densiity lipoprotein cholesterol\n",
    "    adiposity\n",
    "    famhist\t\tfamily history of heart disease (Present, Absent)\n",
    "    typea\t\ttype-A behavior\n",
    "    obesity\n",
    "    alcohol\t\tcurrent alcohol consumption\n",
    "    age\t\tage at onset\n",
    "    chd\t\tresponse, coronary heart disease\n",
    "\n",
    "    To read into R:\n",
    "    read.table(\"http://www-stat.stanford.edu/~tibs/ElemStatLearn/datasets/SAheart.data\",\n",
    "        sep=\",\",head=T,row.names=1)\n",
    "    ```\n",
    "\n",
    "- Abalone dataset: https://archive.ics.uci.edu/dataset/1/abalone"
   ]
  }
 ],
 "metadata": {
  "language_info": {
   "name": "python"
  }
 },
 "nbformat": 4,
 "nbformat_minor": 5
}
