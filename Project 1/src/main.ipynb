{
 "cells": [
  {
   "cell_type": "markdown",
   "id": "28d1dcbd",
   "metadata": {},
   "source": [
    "# Project 2"
   ]
  },
  {
   "cell_type": "code",
   "execution_count": 1,
   "id": "8e546317",
   "metadata": {},
   "outputs": [],
   "source": [
    "import numpy as np\n",
    "import pandas as pd\n",
    "import matplotlib.pyplot as plt\n",
    "\n",
    "# Sklearn\n",
    "from sklearn.preprocessing import LabelEncoder\n",
    "from sklearn.decomposition import PCA"
   ]
  },
  {
   "cell_type": "code",
   "execution_count": 2,
   "id": "0f9813e6",
   "metadata": {},
   "outputs": [],
   "source": [
    "import os\n",
    "from pathlib import Path\n",
    "from sklearn.model_selection import train_test_split, cross_val_score, StratifiedKFold\n",
    "from sklearn.ensemble import RandomForestClassifier\n",
    "from sklearn.linear_model import LogisticRegression\n",
    "from sklearn.pipeline import Pipeline\n",
    "from sklearn.metrics import classification_report, confusion_matrix, ConfusionMatrixDisplay, accuracy_score\n",
    "from sklearn.preprocessing import StandardScaler\n",
    "from sklearn.model_selection import GridSearchCV\n",
    "import seaborn as sns  "
   ]
  },
  {
   "cell_type": "code",
   "execution_count": 3,
   "id": "7d44dbb9",
   "metadata": {},
   "outputs": [
    {
     "name": "stdout",
     "output_type": "stream",
     "text": [
      "   Id       RI     Na    Mg    Al     Si     K    Ca   Ba   Fe   Type\n",
      "0   1  1.52101  13.64  4.49  1.10  71.78  0.06  8.75  0.0  0.0  BW-FP\n",
      "1   2  1.51761  13.89  3.60  1.36  72.73  0.48  7.83  0.0  0.0  BW-FP\n",
      "2   3  1.51618  13.53  3.55  1.54  72.99  0.39  7.78  0.0  0.0  BW-FP\n",
      "3   4  1.51766  13.21  3.69  1.29  72.61  0.57  8.22  0.0  0.0  BW-FP\n",
      "4   5  1.51742  13.27  3.62  1.24  73.08  0.55  8.07  0.0  0.0  BW-FP\n"
     ]
    }
   ],
   "source": [
    "df = pd.read_csv('data/glass.data', header=None)\n",
    "\n",
    "# Name columns\n",
    "df = df.rename(columns={0: 'Id', 1: 'RI', 2: 'Na', 3: 'Mg', 4: 'Al', 5: 'Si', 6: 'K', 7: 'Ca', 8: 'Ba', 9: 'Fe', 10: 'Type'})\n",
    "# Change type of 'Type' to categorical\n",
    "df['Type'] = df['Type'].astype('category')\n",
    "# df['Type'] = df['Type'].cat.rename_categories({ 1: 'building_windows_float_processed',\n",
    "#                                                 2: 'building_windows_non_float_processed',\n",
    "#                                                 3: 'vehicle_windows_float_processed',\n",
    "#                                                 4: 'vehicle_windows_non_float_processed',\n",
    "#                                                 5: 'containers',\n",
    "#                                                 6: 'tableware',\n",
    "#                                                 7: 'headlamps'})\n",
    "df['Type'] = df['Type'].cat.rename_categories({ 1: 'BW-FP',\n",
    "                                                2: 'BW-NFP',\n",
    "                                                3: 'VW-FP',\n",
    "                                                4: 'VW-NFP',\n",
    "                                                5: 'containers',\n",
    "                                                6: 'tableware',\n",
    "                                                7: 'headlamps'})\n",
    "\n",
    "# Numerical variables\n",
    "X = df.drop(columns=['Id', 'Type'])     # dataframe\n",
    "Xe = X.drop(columns=['RI'])             # only chemical elements\n",
    "\n",
    "X_np = X.to_numpy()                     # numpy array\n",
    "\n",
    "# Standardize data\n",
    "Xc = (X - X.mean(axis=0))               # Centering\n",
    "Xs = Xc / Xc.std(axis=0, ddof=1)        # Standardization with unbiased estimator (N-1 in denominator)\n",
    "# Standardise chemical elements\n",
    "Xec = (Xe - Xe.mean(axis=0))            # Centering of only chemical elements\n",
    "Xes = Xec / Xec.std(axis=0, ddof=1)     # Standardization with unbiased estimator for only chemical elements\n",
    "\n",
    "# Categorical variable\n",
    "y = df['Type']          # dataframe   \n",
    "y_np = y.to_numpy()     # numpy array  \n",
    "label_encoder = LabelEncoder()\n",
    "y_num = label_encoder.fit_transform(y)\n",
    "\n",
    "print(df.head())"
   ]
  }
 ],
 "metadata": {
  "kernelspec": {
   "display_name": "DTU_machine-learning",
   "language": "python",
   "name": "python3"
  },
  "language_info": {
   "codemirror_mode": {
    "name": "ipython",
    "version": 3
   },
   "file_extension": ".py",
   "mimetype": "text/x-python",
   "name": "python",
   "nbconvert_exporter": "python",
   "pygments_lexer": "ipython3",
   "version": "3.11.13"
  }
 },
 "nbformat": 4,
 "nbformat_minor": 5
}
