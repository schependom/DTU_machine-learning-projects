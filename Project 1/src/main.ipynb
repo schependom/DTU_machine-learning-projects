{
 "cells": [
  {
   "cell_type": "markdown",
   "id": "28d1dcbd",
   "metadata": {},
   "source": [
    "# Project 1"
   ]
  },
  {
   "cell_type": "markdown",
   "id": "43e087e2",
   "metadata": {},
   "source": [
    "## Datasets\n",
    "\n",
    "- Glass Identification Dataset: https://archive.ics.uci.edu/dataset/42/glass+identification\n",
    "- South African Heart Disease Dataset: https://hastie.su.domains/ElemStatLearn/"
   ]
  }
 ],
 "metadata": {
  "language_info": {
   "name": "python"
  }
 },
 "nbformat": 4,
 "nbformat_minor": 5
}
